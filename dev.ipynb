{
 "cells": [
  {
   "cell_type": "code",
   "execution_count": 2,
   "metadata": {},
   "outputs": [],
   "source": [
    "from typing import Iterable\n",
    "from chess_pairings import chess_results as cr\n",
    "from chess_pairings.chess_results.parsing import find_type, TournamentType, Columns, Row\n",
    "from chess_pairings.chess_results.parsing import parse_rounds\n",
    "from chess_pairings.chess_results import ParsingError\n",
    "from IPython.display import display, HTML\n",
    "from haskellian import iter as I, either as E, Either, Left\n",
    "from bs4 import BeautifulSoup, Tag\n",
    "import pickle\n",
    "\n",
    "archive = 'https://archive.chess-results.com/'\n",
    "import re"
   ]
  },
  {
   "cell_type": "code",
   "execution_count": 4,
   "metadata": {},
   "outputs": [],
   "source": [
    "# rr_soup = (await cr.download_pairings(644356, base=archive)).unsafe()\n",
    "# pickle.dump(rr_soup, open('round-robin.pkl', 'wb'))\n",
    "rr_soup: BeautifulSoup = pickle.load(open('round-robin.pkl', 'rb'))"
   ]
  },
  {
   "cell_type": "code",
   "execution_count": 5,
   "metadata": {},
   "outputs": [],
   "source": [
    "# ss_soup = (await cr.download_pairings(741703, base=archive)).unsafe()\n",
    "ss_soup: BeautifulSoup = pickle.load(open('single-swiss.pkl', 'rb'))"
   ]
  },
  {
   "cell_type": "code",
   "execution_count": 10,
   "metadata": {},
   "outputs": [
    {
     "data": {
      "text/plain": [
       "{'1': Paired(white='Escalante Ramirez, Brian Sebasti', black='Asis Gargatagli, Hipolito', white_no=3, white_elo=2488, black_no=1, black_elo=2530, result='1/2-1/2', tag='paired'),\n",
       " '2': Paired(white='Kaustuv, Kundu', black='Macovei, Andrei', white_no=15, white_elo=2266, black_no=6, black_elo=2436, result='1/2-1/2', tag='paired'),\n",
       " '3': Paired(white='Narciso Dublan, Marc', black='Arenas, David', white_no=7, white_elo=2424, black_no=8, black_elo=2418, result='1/2-1/2', tag='paired'),\n",
       " '4': Paired(white='Subhayan, Kundu', black='Marin Posada, Sebastian', white_no=13, white_elo=2326, black_no=16, black_elo=2265, result='0-1', tag='paired'),\n",
       " '5': Paired(white='Shyaamnikhil, P', black='Chirivi C, Jenny Astrid', white_no=4, white_elo=2473, black_no=23, black_elo=2166, result='1-0', tag='paired'),\n",
       " '6': Paired(white='Deshmukh, Anup', black='Berdayes Ason, Dylan Isidro', white_no=29, white_elo=2121, black_no=2, black_elo=2509, result='0-1', tag='paired'),\n",
       " '7': Paired(white='Jimenez Garcia, Emmanuel', black='Md, Bashiq Imrose', white_no=5, white_elo=2437, black_no=71, black_elo=1771, result='1/2-1/2', tag='paired'),\n",
       " '8': Paired(white='Leslie, Alex', black='Alcala Gonzalez, Cesar', white_no=32, white_elo=2088, black_no=12, black_elo=2329, result='1-0', tag='paired'),\n",
       " '9': Paired(white='Kshatriya, Nitin Vekhande', black='Dahale, Atul', white_no=39, white_elo=2033, black_no=26, black_elo=2150, result='0-1', tag='paired'),\n",
       " '10': Paired(white='Cordoba Roa, Angel Gabriel', black='Thakur, Akash', white_no=11, white_elo=2339, black_no=20, black_elo=2193, result='1/2-1/2', tag='paired'),\n",
       " '11': Paired(white='Hernando Rodrigo, Julio Antonio', black='Dhruva, Thota', white_no=17, white_elo=2240, black_no=35, black_elo=2079, result='0-1', tag='paired'),\n",
       " '12': Paired(white='Sonkalan, Bharati', black='Moya Nunez, Pau Salvador', white_no=43, white_elo=2009, black_no=21, black_elo=2176, result='0-1', tag='paired'),\n",
       " '13': Paired(white='Sole Pijuan, Ferran', black='Toro Castaneda, Elizabeth', white_no=25, white_elo=2157, black_no=47, black_elo=1989, result='1-0', tag='paired'),\n",
       " '14': Paired(white='Marabajan Navas, Saul', black='Glimbrant, Torbjorn', white_no=36, white_elo=2068, black_no=28, black_elo=2144, result='0-1', tag='paired'),\n",
       " '15': Paired(white='Suvradeepta, Das', black='Vivaan, Vijay Saraogi', white_no=30, white_elo=2110, black_no=74, black_elo=1739, result='-+', tag='paired'),\n",
       " '16': Paired(white='Pardina Domenech, Victor', black='Claramunt Bassegoda, Marcel', white_no=45, white_elo=1995, black_no=34, black_elo=2086, result='0-1', tag='paired'),\n",
       " '17': Paired(white='Fernandez Madrid, Carlos', black='Perpinya Rofes, Lluis Maria', white_no=38, white_elo=2053, black_no=14, black_elo=2269, result='1/2-1/2', tag='paired'),\n",
       " '18': Paired(white='Chidvilash, Sai Surapaneni', black='Alvarez Albiol, Victor', white_no=40, white_elo=2030, black_no=18, black_elo=2214, result='1-0', tag='paired'),\n",
       " '19': Paired(white='Jimenez Munoz, Nicolas', black='Loaiza Cuervo, Santiago', white_no=19, white_elo=2204, black_no=44, black_elo=2006, result='0-1', tag='paired'),\n",
       " '20': Paired(white='Gijsen, William', black='Comellas Blanchart, Jordi', white_no=27, white_elo=2144, black_no=48, black_elo=1986, result='1-0', tag='paired'),\n",
       " '21': Paired(white='Vedant, Nitin Vekhande', black='Advait, Shankar Nair', white_no=33, white_elo=2087, black_no=64, black_elo=1838, result='0-1', tag='paired'),\n",
       " '22': Paired(white='Fabregas Fontanet, Antonio', black='Serrano Batova, Vicent', white_no=62, white_elo=1845, black_no=37, black_elo=2061, result='0-1', tag='paired'),\n",
       " '23': Paired(white='Namay Caceres, Santos', black='Sambarta, Banerjee', white_no=46, white_elo=1990, black_no=49, black_elo=1975, result='1-0', tag='paired'),\n",
       " '24': Paired(white='Guix Torres, David', black='Parra Ordorica, Arnau', white_no=53, white_elo=1954, black_no=58, black_elo=1889, result='1-0', tag='paired'),\n",
       " '25': Paired(white='Marcos Rodriguez, Raul', black='Troffiguer, Olivier', white_no=72, white_elo=1754, black_no=41, black_elo=2028, result='0-1', tag='paired'),\n",
       " '26': Paired(white='Vila I Bague, Arnau', black='Millaret Lores, Francesc', white_no=59, white_elo=1888, black_no=24, black_elo=2160, result='1-0', tag='paired'),\n",
       " '27': Paired(white='Kumar, Sanjit S', black='Navarro Gutierrez, Andres Camilo', white_no=66, white_elo=1803, black_no=42, black_elo=2025, result='1-0', tag='paired'),\n",
       " '28': Paired(white='Vinolas Anglada, Laura', black='Torrent San Nicolas, Biel', white_no=61, white_elo=1867, black_no=50, black_elo=1968, result='1-0', tag='paired'),\n",
       " '29': Paired(white='Garbezza, Davide', black='Amit, Panchal', white_no=51, white_elo=1960, black_no=70, black_elo=1776, result='0-1', tag='paired'),\n",
       " '30': Paired(white='Dominguez Laguna, Eduard', black='Castano, Saray', white_no=55, white_elo=1925, black_no=73, black_elo=1741, result='1/2-1/2', tag='paired'),\n",
       " '31': Paired(white='Cano Vila, Eduard', black='Romero Gamez, Francisco Javier', white_no=63, white_elo=1841, black_no=79, black_elo=1528, result='0-1', tag='paired'),\n",
       " '32': Paired(white='Muntane Aznar, Juan Manuel', black='Abad Sanmartin, Jorge', white_no=76, white_elo=1697, black_no=69, black_elo=1782, result='0-1', tag='paired'),\n",
       " '33': Paired(white='Alcaraz Lopez, Francesc', black='Alcala Valiente, Juan Carlos', white_no=68, white_elo=1796, black_no=54, black_elo=1946, result='1/2-1/2', tag='paired'),\n",
       " '34': Paired(white='Lee Luen Mang, Stefan', black='Campillo Lopez, Ricardo Bienaventu', white_no=78, white_elo=1538, black_no=77, black_elo=1642, result='1-0', tag='paired'),\n",
       " '35': Unpaired(player='Valenzuela Gomez, Fernando', reason='not paired', tag='unpaired'),\n",
       " '36': Unpaired(player='Alvarez Calzadilla, Jose Avelino', reason='not paired', tag='unpaired'),\n",
       " '37': Unpaired(player='Webb, Laurence E', reason='not paired', tag='unpaired'),\n",
       " '38': Unpaired(player='Perez Pastora, Evarist', reason='not paired', tag='unpaired'),\n",
       " '39': Unpaired(player='Rex, Torsten', reason='not paired', tag='unpaired'),\n",
       " '40': Unpaired(player='Chitsazian, Daniel', reason='not paired', tag='unpaired'),\n",
       " '41': Unpaired(player='Suarez, Sebastian', reason='not paired', tag='unpaired'),\n",
       " '42': Unpaired(player='Ortiz Monsalve, Sebastian', reason='not paired', tag='unpaired'),\n",
       " '43': Unpaired(player='Deepak Ambattu, Rithvik', reason='not paired', tag='unpaired'),\n",
       " '44': Unpaired(player='Aymerich Martinez, Josep Ramon', reason='not paired', tag='unpaired'),\n",
       " '45': Unpaired(player='Netto Schneider, Gerard', reason='not paired', tag='unpaired')}"
      ]
     },
     "execution_count": 10,
     "metadata": {},
     "output_type": "execute_result"
    }
   ],
   "source": [
    "parse_rounds(ss_soup).unsafe()['9']"
   ]
  }
 ],
 "metadata": {
  "kernelspec": {
   "display_name": ".venv",
   "language": "python",
   "name": "python3"
  },
  "language_info": {
   "codemirror_mode": {
    "name": "ipython",
    "version": 3
   },
   "file_extension": ".py",
   "mimetype": "text/x-python",
   "name": "python",
   "nbconvert_exporter": "python",
   "pygments_lexer": "ipython3",
   "version": "3.11.6"
  }
 },
 "nbformat": 4,
 "nbformat_minor": 2
}
