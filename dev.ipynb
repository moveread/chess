{
 "cells": [
  {
   "cell_type": "code",
   "execution_count": 2,
   "metadata": {},
   "outputs": [],
   "source": [
    "from typing import Iterable\n",
    "from chess_pairings import chess_results as cr\n",
    "from chess_pairings.chess_results.parsing import find_type, TournamentType, Columns, Row\n",
    "from chess_pairings.chess_results.parsing import parse_rounds\n",
    "from chess_pairings.chess_results import ParsingError\n",
    "from IPython.display import display, HTML\n",
    "from haskellian import iter as I, either as E, Either, Left\n",
    "from bs4 import BeautifulSoup, Tag\n",
    "import pickle\n",
    "\n",
    "archive = 'https://archive.chess-results.com/'\n",
    "import re"
   ]
  },
  {
   "cell_type": "code",
   "execution_count": 4,
   "metadata": {},
   "outputs": [],
   "source": [
    "# rr_soup = (await cr.download_pairings(644356, base=archive)).unsafe()\n",
    "# pickle.dump(rr_soup, open('round-robin.pkl', 'wb'))\n",
    "rr_soup: BeautifulSoup = pickle.load(open('round-robin.pkl', 'rb'))"
   ]
  },
  {
   "cell_type": "code",
   "execution_count": 5,
   "metadata": {},
   "outputs": [],
   "source": [
    "# ss_soup = (await cr.download_pairings(741703, base=archive)).unsafe()\n",
    "ss_soup: BeautifulSoup = pickle.load(open('single-swiss.pkl', 'rb'))"
   ]
  }
 ],
 "metadata": {
  "kernelspec": {
   "display_name": ".venv",
   "language": "python",
   "name": "python3"
  },
  "language_info": {
   "codemirror_mode": {
    "name": "ipython",
    "version": 3
   },
   "file_extension": ".py",
   "mimetype": "text/x-python",
   "name": "python",
   "nbconvert_exporter": "python",
   "pygments_lexer": "ipython3",
   "version": "3.11.6"
  }
 },
 "nbformat": 4,
 "nbformat_minor": 2
}
