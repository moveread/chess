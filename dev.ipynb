{
 "cells": [
  {
   "cell_type": "code",
   "execution_count": 10,
   "metadata": {},
   "outputs": [
    {
     "ename": "Error",
     "evalue": "Invalid move in PGN: e4",
     "output_type": "error",
     "traceback": [
      "Stack trace:",
      "Error: Invalid move in PGN: e4",
      "    at Chess.loadPgn (file:///home/m4rs/.cache/deno/npm/registry.npmjs.org/chess.js/1.0.0-beta.8/dist/cjs/chess.js:1504:27)",
      "    at <anonymous>:3:7"
     ]
    }
   ],
   "source": [
    "import { Chess } from 'npm:chess.js'\n",
    "\n",
    "const chess = new Chess()\n",
    "chess.loadPgn('1.e4 e5 Nf3 Nc6 e4 {oops}')\n",
    "\n",
    "chess.history()"
   ]
  }
 ],
 "metadata": {
  "kernelspec": {
   "display_name": "Deno",
   "language": "typescript",
   "name": "deno"
  },
  "language_info": {
   "file_extension": ".ts",
   "mimetype": "text/x.typescript",
   "name": "typescript",
   "nb_converter": "script",
   "pygments_lexer": "typescript",
   "version": "5.3.3"
  }
 },
 "nbformat": 4,
 "nbformat_minor": 2
}
