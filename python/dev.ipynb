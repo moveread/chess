{
 "cells": [
  {
   "cell_type": "code",
   "execution_count": 1,
   "metadata": {},
   "outputs": [],
   "source": [
    "from chess_utils import export_moves, export_headers, export_pgn, PGNHeaders"
   ]
  },
  {
   "cell_type": "code",
   "execution_count": 3,
   "metadata": {},
   "outputs": [
    {
     "name": "stdout",
     "output_type": "stream",
     "text": [
      "[Event \"Llobregat\"]\n",
      "[Date \"2022.06.06\"]\n",
      "[Round \"1.2\"]\n",
      "[White \"Bobby Fischer\"]\n",
      "[Black \"Mikhail Tal\"]\n",
      "[Result \"*\"]\n",
      "\n",
      "1. e4 e5 2. Nf3 Nc6 3. Bb5 a6 4. Ba4 * {Game continued from here}\n"
     ]
    }
   ],
   "source": [
    "moves = ['e4', 'e5', 'Nf3', 'Nc6', 'Bb5', 'a6', 'Ba4']\n",
    "headers = PGNHeaders(Event='Llobregat', Date='2022.06.06', Round='1.2', White='Bobby Fischer', Black='Mikhail Tal', Result='*')\n",
    "print(export_pgn(moves, headers, 'Game continued from here'))"
   ]
  }
 ],
 "metadata": {
  "kernelspec": {
   "display_name": ".venv",
   "language": "python",
   "name": "python3"
  },
  "language_info": {
   "codemirror_mode": {
    "name": "ipython",
    "version": 3
   },
   "file_extension": ".py",
   "mimetype": "text/x-python",
   "name": "python",
   "nbconvert_exporter": "python",
   "pygments_lexer": "ipython3",
   "version": "3.11.6"
  }
 },
 "nbformat": 4,
 "nbformat_minor": 2
}
