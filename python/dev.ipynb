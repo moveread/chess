{
 "cells": [
  {
   "cell_type": "code",
   "execution_count": 2,
   "metadata": {},
   "outputs": [],
   "source": [
    "from typing import Sequence, Callable\n",
    "import random\n",
    "import chess_utils as cu\n",
    "import chess_notation as cn\n",
    "from haskellian import iter as I"
   ]
  },
  {
   "cell_type": "code",
   "execution_count": 11,
   "metadata": {},
   "outputs": [
    {
     "data": {
      "text/plain": [
       "Notation(language='EN', styles=Styles(castle=None, pawn_capture='dxe4', piece_capture='Nxe4', check=None, mate=None))"
      ]
     },
     "execution_count": 11,
     "metadata": {},
     "output_type": "execute_result"
    }
   ],
   "source": [
    "\"\"\"Pawn capture styles that convey different information to each other (start file only, end file only, both files, etc.)\"\"\"\n",
    "DIFF_PAWN_CAPTURES: list[cn.PawnCapture] = ['de', 'dxe4', 'xe4', 'PxN']\n",
    "\"\"\"Piece capture styles that convey different information to each other (start file only, end file only, both files, etc.)\"\"\"\n",
    "DIFF_PIECE_CAPTURES: list[cn.PieceCapture] = ['Ne4', 'Nxe4', 'NxN']\n",
    "\n",
    "def random_transformer_style(languages: Sequence[cn.Language] = ['EN']) -> cn.Notation:\n",
    "  styles = cn.Styles(\n",
    "    pawn_capture=random.choice(pawn_captures),\n",
    "    piece_capture=random.choice(piece_captures)\n",
    "  )\n",
    "  lang = random.choice(languages)\n",
    "  return cn.Notation(language=lang, styles=styles)\n",
    "\n",
    "random_transformer_style()"
   ]
  }
 ],
 "metadata": {
  "kernelspec": {
   "display_name": ".venv",
   "language": "python",
   "name": "python3"
  },
  "language_info": {
   "codemirror_mode": {
    "name": "ipython",
    "version": 3
   },
   "file_extension": ".py",
   "mimetype": "text/x-python",
   "name": "python",
   "nbconvert_exporter": "python",
   "pygments_lexer": "ipython3",
   "version": "3.11.6"
  }
 },
 "nbformat": 4,
 "nbformat_minor": 2
}
