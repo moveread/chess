{
 "cells": [
  {
   "cell_type": "code",
   "execution_count": 1,
   "metadata": {},
   "outputs": [],
   "source": [
    "import chess\n",
    "import chess.svg\n",
    "from IPython.display import display, SVG\n",
    "import ipywidgets as wg\n",
    "from typing import Sequence, Callable\n",
    "from ipychess import Board, Nav, ObservableStr\n",
    "from traitlets import Int, HasTraits, Unicode\n",
    "import chess_utils as cu\n",
    "from haskellian import iter as I"
   ]
  },
  {
   "cell_type": "code",
   "execution_count": 2,
   "metadata": {},
   "outputs": [],
   "source": [
    "ucis = I.take(10, cu.random.line()).sync()\n",
    "fens = list(cu.moves2fens(ucis))"
   ]
  },
  {
   "cell_type": "code",
   "execution_count": 14,
   "metadata": {},
   "outputs": [],
   "source": [
    "fen = ObservableStr(chess.STARTING_FEN)\n",
    "board = Board(fen, size=256)\n",
    "nav = Nav(10)\n",
    "\n",
    "def update_fen(idx: int):\n",
    "  fen.value = fens[idx]\n",
    "\n",
    "nav.observe(update_fen)"
   ]
  },
  {
   "cell_type": "code",
   "execution_count": 15,
   "metadata": {},
   "outputs": [
    {
     "data": {
      "application/vnd.jupyter.widget-view+json": {
       "model_id": "b2260e04f54c4432bb09ff1093155050",
       "version_major": 2,
       "version_minor": 0
      },
      "text/plain": [
       "VBox(children=(HTML(value='<svg xmlns=\"http://www.w3.org/2000/svg\" xmlns:xlink=\"http://www.w3.org/1999/xlink\" …"
      ]
     },
     "execution_count": 15,
     "metadata": {},
     "output_type": "execute_result"
    }
   ],
   "source": [
    "wg.VBox([board(), nav()])"
   ]
  }
 ],
 "metadata": {
  "kernelspec": {
   "display_name": ".venv",
   "language": "python",
   "name": "python3"
  },
  "language_info": {
   "codemirror_mode": {
    "name": "ipython",
    "version": 3
   },
   "file_extension": ".py",
   "mimetype": "text/x-python",
   "name": "python",
   "nbconvert_exporter": "python",
   "pygments_lexer": "ipython3",
   "version": "3.11.6"
  }
 },
 "nbformat": 4,
 "nbformat_minor": 2
}
